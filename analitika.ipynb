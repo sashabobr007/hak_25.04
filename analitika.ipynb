{
 "cells": [
  {
   "cell_type": "code",
   "execution_count": 1,
   "metadata": {},
   "outputs": [],
   "source": [
    "import pandas as pd"
   ]
  },
  {
   "cell_type": "code",
   "execution_count": 2,
   "metadata": {},
   "outputs": [],
   "source": [
    "df = pd.read_csv('df-2.csv')"
   ]
  },
  {
   "cell_type": "code",
   "execution_count": 7,
   "metadata": {},
   "outputs": [
    {
     "data": {
      "text/html": [
       "<div>\n",
       "<style scoped>\n",
       "    .dataframe tbody tr th:only-of-type {\n",
       "        vertical-align: middle;\n",
       "    }\n",
       "\n",
       "    .dataframe tbody tr th {\n",
       "        vertical-align: top;\n",
       "    }\n",
       "\n",
       "    .dataframe thead th {\n",
       "        text-align: right;\n",
       "    }\n",
       "</style>\n",
       "<table border=\"1\" class=\"dataframe\">\n",
       "  <thead>\n",
       "    <tr style=\"text-align: right;\">\n",
       "      <th></th>\n",
       "      <th>Unnamed: 0</th>\n",
       "      <th>id</th>\n",
       "      <th>timestamp</th>\n",
       "      <th>program</th>\n",
       "      <th>question_1</th>\n",
       "      <th>question_2</th>\n",
       "      <th>question_3</th>\n",
       "      <th>question_4</th>\n",
       "      <th>question_5</th>\n",
       "      <th>is_relevant</th>\n",
       "      <th>...</th>\n",
       "      <th>professor_positive__ind_3_communication</th>\n",
       "      <th>metodist_negative_ind_1_badexamples</th>\n",
       "      <th>metodist_negative_ind_2_badmaterial</th>\n",
       "      <th>metodist_negative_ind_3_badknowledge</th>\n",
       "      <th>professor_negative__ind_1_badspeach</th>\n",
       "      <th>professor_negative__ind_2_badmaterial</th>\n",
       "      <th>professor_negative__ind_3_badcommunication</th>\n",
       "      <th>professorname</th>\n",
       "      <th>metodistname</th>\n",
       "      <th>is_critical</th>\n",
       "    </tr>\n",
       "  </thead>\n",
       "  <tbody>\n",
       "    <tr>\n",
       "      <th>0</th>\n",
       "      <td>0</td>\n",
       "      <td>49</td>\n",
       "      <td>2024-04-06 14:09:57</td>\n",
       "      <td>Управление персоналом</td>\n",
       "      <td>1</td>\n",
       "      <td>Все понравилось</td>\n",
       "      <td>Календарь составили так, что совместилось два ...</td>\n",
       "      <td>Все хорошо</td>\n",
       "      <td>Создания чата со студентами</td>\n",
       "      <td>1</td>\n",
       "      <td>...</td>\n",
       "      <td>0</td>\n",
       "      <td>0</td>\n",
       "      <td>0</td>\n",
       "      <td>0</td>\n",
       "      <td>0</td>\n",
       "      <td>0</td>\n",
       "      <td>0</td>\n",
       "      <td>Попов</td>\n",
       "      <td>Егоров</td>\n",
       "      <td>0</td>\n",
       "    </tr>\n",
       "    <tr>\n",
       "      <th>1</th>\n",
       "      <td>1</td>\n",
       "      <td>50</td>\n",
       "      <td>2024-04-06 14:10:07</td>\n",
       "      <td>ChatGPT для обучения</td>\n",
       "      <td>1</td>\n",
       "      <td>Gpt чат</td>\n",
       "      <td>Информация предоставлена в доступном виде</td>\n",
       "      <td>Все хорошо</td>\n",
       "      <td>Другие виды ИИ</td>\n",
       "      <td>1</td>\n",
       "      <td>...</td>\n",
       "      <td>0</td>\n",
       "      <td>0</td>\n",
       "      <td>0</td>\n",
       "      <td>0</td>\n",
       "      <td>0</td>\n",
       "      <td>0</td>\n",
       "      <td>0</td>\n",
       "      <td>Васильев</td>\n",
       "      <td>Козлов</td>\n",
       "      <td>0</td>\n",
       "    </tr>\n",
       "    <tr>\n",
       "      <th>2</th>\n",
       "      <td>2</td>\n",
       "      <td>51</td>\n",
       "      <td>2024-04-06 14:10:24</td>\n",
       "      <td>ChatGPT для обучения</td>\n",
       "      <td>1</td>\n",
       "      <td>Промт-Инжиниринг, это уже даёт какое-то понима...</td>\n",
       "      <td>Нет</td>\n",
       "      <td>Не увидел минусов в вебинаре, очень понравился.</td>\n",
       "      <td>Промт-Инжиниринг</td>\n",
       "      <td>1</td>\n",
       "      <td>...</td>\n",
       "      <td>0</td>\n",
       "      <td>0</td>\n",
       "      <td>0</td>\n",
       "      <td>0</td>\n",
       "      <td>0</td>\n",
       "      <td>0</td>\n",
       "      <td>0</td>\n",
       "      <td>Соколов</td>\n",
       "      <td>Козлов</td>\n",
       "      <td>0</td>\n",
       "    </tr>\n",
       "    <tr>\n",
       "      <th>3</th>\n",
       "      <td>3</td>\n",
       "      <td>52</td>\n",
       "      <td>2024-04-06 14:13:26</td>\n",
       "      <td>ChatGPT для обучения</td>\n",
       "      <td>1</td>\n",
       "      <td>новая информация, полезно</td>\n",
       "      <td>нет не было таких моментов</td>\n",
       "      <td>мне все понравилось</td>\n",
       "      <td>пока затрудняюсь ответить</td>\n",
       "      <td>1</td>\n",
       "      <td>...</td>\n",
       "      <td>0</td>\n",
       "      <td>0</td>\n",
       "      <td>0</td>\n",
       "      <td>0</td>\n",
       "      <td>0</td>\n",
       "      <td>0</td>\n",
       "      <td>0</td>\n",
       "      <td>Соколов</td>\n",
       "      <td>Козлов</td>\n",
       "      <td>1</td>\n",
       "    </tr>\n",
       "    <tr>\n",
       "      <th>4</th>\n",
       "      <td>4</td>\n",
       "      <td>53</td>\n",
       "      <td>2024-04-06 14:15:20</td>\n",
       "      <td>ChatGPT для обучения</td>\n",
       "      <td>1</td>\n",
       "      <td>Светлые и темные стороны ChatGPT</td>\n",
       "      <td>Не знание определений</td>\n",
       "      <td>Все идеально</td>\n",
       "      <td>темы по дизайну интерьера</td>\n",
       "      <td>1</td>\n",
       "      <td>...</td>\n",
       "      <td>0</td>\n",
       "      <td>0</td>\n",
       "      <td>0</td>\n",
       "      <td>0</td>\n",
       "      <td>0</td>\n",
       "      <td>1</td>\n",
       "      <td>0</td>\n",
       "      <td>Соколов</td>\n",
       "      <td>Козлов</td>\n",
       "      <td>0</td>\n",
       "    </tr>\n",
       "  </tbody>\n",
       "</table>\n",
       "<p>5 rows × 30 columns</p>\n",
       "</div>"
      ],
      "text/plain": [
       "   Unnamed: 0  id           timestamp                program  question_1  \\\n",
       "0           0  49 2024-04-06 14:09:57  Управление персоналом           1   \n",
       "1           1  50 2024-04-06 14:10:07   ChatGPT для обучения           1   \n",
       "2           2  51 2024-04-06 14:10:24   ChatGPT для обучения           1   \n",
       "3           3  52 2024-04-06 14:13:26   ChatGPT для обучения           1   \n",
       "4           4  53 2024-04-06 14:15:20   ChatGPT для обучения           1   \n",
       "\n",
       "                                          question_2  \\\n",
       "0                                    Все понравилось   \n",
       "1                                            Gpt чат   \n",
       "2  Промт-Инжиниринг, это уже даёт какое-то понима...   \n",
       "3                          новая информация, полезно   \n",
       "4                   Светлые и темные стороны ChatGPT   \n",
       "\n",
       "                                          question_3  \\\n",
       "0  Календарь составили так, что совместилось два ...   \n",
       "1          Информация предоставлена в доступном виде   \n",
       "2                                                Нет   \n",
       "3                         нет не было таких моментов   \n",
       "4                              Не знание определений   \n",
       "\n",
       "                                        question_4  \\\n",
       "0                                       Все хорошо   \n",
       "1                                       Все хорошо   \n",
       "2  Не увидел минусов в вебинаре, очень понравился.   \n",
       "3                              мне все понравилось   \n",
       "4                                     Все идеально   \n",
       "\n",
       "                    question_5  is_relevant  ...  \\\n",
       "0  Создания чата со студентами            1  ...   \n",
       "1               Другие виды ИИ            1  ...   \n",
       "2             Промт-Инжиниринг            1  ...   \n",
       "3    пока затрудняюсь ответить            1  ...   \n",
       "4    темы по дизайну интерьера            1  ...   \n",
       "\n",
       "   professor_positive__ind_3_communication  \\\n",
       "0                                        0   \n",
       "1                                        0   \n",
       "2                                        0   \n",
       "3                                        0   \n",
       "4                                        0   \n",
       "\n",
       "   metodist_negative_ind_1_badexamples  metodist_negative_ind_2_badmaterial  \\\n",
       "0                                    0                                    0   \n",
       "1                                    0                                    0   \n",
       "2                                    0                                    0   \n",
       "3                                    0                                    0   \n",
       "4                                    0                                    0   \n",
       "\n",
       "   metodist_negative_ind_3_badknowledge  professor_negative__ind_1_badspeach  \\\n",
       "0                                     0                                    0   \n",
       "1                                     0                                    0   \n",
       "2                                     0                                    0   \n",
       "3                                     0                                    0   \n",
       "4                                     0                                    0   \n",
       "\n",
       "   professor_negative__ind_2_badmaterial  \\\n",
       "0                                      0   \n",
       "1                                      0   \n",
       "2                                      0   \n",
       "3                                      0   \n",
       "4                                      1   \n",
       "\n",
       "   professor_negative__ind_3_badcommunication  professorname  metodistname  \\\n",
       "0                                           0          Попов        Егоров   \n",
       "1                                           0       Васильев        Козлов   \n",
       "2                                           0        Соколов        Козлов   \n",
       "3                                           0        Соколов        Козлов   \n",
       "4                                           0        Соколов        Козлов   \n",
       "\n",
       "   is_critical  \n",
       "0            0  \n",
       "1            0  \n",
       "2            0  \n",
       "3            1  \n",
       "4            0  \n",
       "\n",
       "[5 rows x 30 columns]"
      ]
     },
     "execution_count": 7,
     "metadata": {},
     "output_type": "execute_result"
    }
   ],
   "source": [
    "df.head()"
   ]
  },
  {
   "cell_type": "code",
   "execution_count": 6,
   "metadata": {},
   "outputs": [],
   "source": [
    "df.timestamp = pd.to_datetime(df.timestamp)"
   ]
  },
  {
   "cell_type": "code",
   "execution_count": 19,
   "metadata": {},
   "outputs": [
    {
     "data": {
      "text/plain": [
       "0.875"
      ]
     },
     "execution_count": 19,
     "metadata": {},
     "output_type": "execute_result"
    }
   ],
   "source": [
    "start = pd.to_datetime(\"2024-04-01\")\n",
    "end = pd.to_datetime(\"2024-04-06\")\n",
    "df[(df.program == \"Основы программирования\") & (df.timestamp >= start) & (df.timestamp <= end)].is_positive.mean()"
   ]
  },
  {
   "cell_type": "code",
   "execution_count": 20,
   "metadata": {},
   "outputs": [],
   "source": [
    "met = 'Лебедев'\n",
    "mini_df = df[df.metodistname == met]"
   ]
  },
  {
   "cell_type": "code",
   "execution_count": 24,
   "metadata": {},
   "outputs": [
    {
     "data": {
      "text/plain": [
       "0.0"
      ]
     },
     "execution_count": 24,
     "metadata": {},
     "output_type": "execute_result"
    }
   ],
   "source": [
    "mini_df.metodist_negative_ind_3_badknowledge.mean()"
   ]
  },
  {
   "cell_type": "code",
   "execution_count": 25,
   "metadata": {},
   "outputs": [
    {
     "data": {
      "text/plain": [
       "Unnamed: 0                                             int64\n",
       "id                                                     int64\n",
       "timestamp                                     datetime64[ns]\n",
       "program                                               object\n",
       "question_1                                             int64\n",
       "question_2                                            object\n",
       "question_3                                            object\n",
       "question_4                                            object\n",
       "question_5                                            object\n",
       "is_relevant                                            int64\n",
       "is_relevant_proc                                     float64\n",
       "is_positive                                            int64\n",
       "is_positive_proc                                     float64\n",
       "object                                                 int64\n",
       "object_proc                                          float64\n",
       "metodist_positive_ind_1_present                        int64\n",
       "metodist_positive_ind_2_knowledgepractice              int64\n",
       "metodist_positive_ind_3_knowledge                      int64\n",
       "professor_positive__ind_1_speach                       int64\n",
       "professor_positive__ind_2_material                     int64\n",
       "professor_positive__ind_3_communication                int64\n",
       "metodist_negative_ind_1_badexamples                    int64\n",
       "metodist_negative_ind_2_badmaterial                    int64\n",
       "metodist_negative_ind_3_badknowledge                   int64\n",
       "professor_negative__ind_1_badspeach                    int64\n",
       "professor_negative__ind_2_badmaterial                  int64\n",
       "professor_negative__ind_3_badcommunication             int64\n",
       "professorname                                         object\n",
       "metodistname                                          object\n",
       "is_critical                                            int64\n",
       "dtype: object"
      ]
     },
     "execution_count": 25,
     "metadata": {},
     "output_type": "execute_result"
    }
   ],
   "source": [
    "df.dtypes"
   ]
  },
  {
   "cell_type": "code",
   "execution_count": 30,
   "metadata": {},
   "outputs": [
    {
     "data": {
      "text/plain": [
       "32"
      ]
     },
     "execution_count": 30,
     "metadata": {},
     "output_type": "execute_result"
    }
   ],
   "source": [
    "mini_df[mini_df.object == 0].id.count()"
   ]
  },
  {
   "cell_type": "code",
   "execution_count": 33,
   "metadata": {},
   "outputs": [
    {
     "data": {
      "text/plain": [
       "9"
      ]
     },
     "execution_count": 33,
     "metadata": {},
     "output_type": "execute_result"
    }
   ],
   "source": [
    "mini_df[mini_df.object == 2].id.count()"
   ]
  },
  {
   "cell_type": "code",
   "execution_count": null,
   "metadata": {},
   "outputs": [],
   "source": []
  }
 ],
 "metadata": {
  "kernelspec": {
   "display_name": "Python 3 (ipykernel)",
   "language": "python",
   "name": "python3"
  },
  "language_info": {
   "codemirror_mode": {
    "name": "ipython",
    "version": 3
   },
   "file_extension": ".py",
   "mimetype": "text/x-python",
   "name": "python",
   "nbconvert_exporter": "python",
   "pygments_lexer": "ipython3",
   "version": "3.9.6"
  }
 },
 "nbformat": 4,
 "nbformat_minor": 2
}
