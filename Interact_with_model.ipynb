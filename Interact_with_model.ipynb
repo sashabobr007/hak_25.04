{
  "nbformat": 4,
  "nbformat_minor": 0,
  "metadata": {
    "colab": {
      "provenance": []
    },
    "kernelspec": {
      "name": "python3",
      "display_name": "Python 3"
    },
    "language_info": {
      "name": "python"
    }
  },
  "cells": [
    {
      "cell_type": "code",
      "execution_count": 4,
      "metadata": {
        "id": "3-UqPbt9iOYv"
      },
      "outputs": [],
      "source": [
        "from transformers import pipeline\n",
        "import pandas as pd"
      ]
    },
    {
      "cell_type": "code",
      "source": [
        "def load_model(path_to_folder_with_model, device=None):\n",
        "  model = pipeline('text-classification',\n",
        "                   model=path_to_folder_with_model,\n",
        "                   tokenizer='DeepPavlov/rubert-base-cased-conversational',\n",
        "                   framework='pt',\n",
        "                   device=device)\n",
        "  return model\n",
        "\n",
        "def predict(model, feedback):\n",
        "  return model(feedback[1] + ' ' + feedback[3])"
      ],
      "metadata": {
        "id": "U08yXwF6ixbU"
      },
      "execution_count": 5,
      "outputs": []
    },
    {
      "cell_type": "code",
      "source": [
        "pos_model = load_model('/content/drive/MyDrive/Hakaton/Models_for_Kolbasa/pos_neg_model')\n",
        "obj_model = load_model('/content/drive/MyDrive/Hakaton/Models_for_Kolbasa/object_model')\n",
        "rel_model = load_model('/content/drive/MyDrive/Hakaton/Models_for_Kolbasa/relevant_model')\n",
        "\n",
        "pos_model('Уууу, курс плохой, не буду на него ходить')"
      ],
      "metadata": {
        "colab": {
          "base_uri": "https://localhost:8080/"
        },
        "id": "ueKJQ5WzjGcR",
        "outputId": "766b3ccc-8475-4a98-ae50-f99ed4e7351d"
      },
      "execution_count": 22,
      "outputs": [
        {
          "output_type": "execute_result",
          "data": {
            "text/plain": [
              "[{'label': 'negative', 'score': 0.870173454284668}]"
            ]
          },
          "metadata": {},
          "execution_count": 22
        }
      ]
    },
    {
      "cell_type": "code",
      "source": [
        "test = pd.read_csv('/content/drive/MyDrive/Hakaton/test_data.csv')\n",
        "test['is_positive'] = [int(d['label'] == 'positive') for d in pos_model((test['question_2'] + test['question_4']).to_list())]\n",
        "test['is_relevant'] = [int(d['label'] == 'relevant') for d in rel_model((test['question_2'] + test['question_4']).to_list())]\n",
        "test['object'] = [{'webinar': 0, 'program': 1, 'tutor': 2}[d['label']] for d in obj_model((test['question_2'] + test['question_4']).to_list())]"
      ],
      "metadata": {
        "id": "u9a9DDTghIAL"
      },
      "execution_count": 18,
      "outputs": []
    },
    {
      "cell_type": "code",
      "source": [
        "test[['hash', 'is_relevant', 'object', 'is_positive']].to_csv('/content/submission.csv', index=False)"
      ],
      "metadata": {
        "id": "PzXKkJu_jlPw"
      },
      "execution_count": 21,
      "outputs": []
    },
    {
      "cell_type": "code",
      "source": [
        "df = pd.read_csv('/content/drive/MyDrive/Hakaton/train_data.csv').iloc[:, 1:-3]\n",
        "sample = df.iloc[1].to_list()\n",
        "sample"
      ],
      "metadata": {
        "colab": {
          "base_uri": "https://localhost:8080/"
        },
        "id": "TdfRpihUa76f",
        "outputId": "54ee45ac-6721-4ac4-cca4-26529e1f6b5f"
      },
      "execution_count": null,
      "outputs": [
        {
          "output_type": "execute_result",
          "data": {
            "text/plain": [
              "['Основы программирования',\n",
              " 'Подробное объяснение логических операторов в JavaScript помогло мне лучше понять условные конструкции.',\n",
              " 'Нет.',\n",
              " 'Предоставить ещё больше практических задач после теории.',\n",
              " 'Детальное изучение асинхронного программирования в JavaScript.']"
            ]
          },
          "metadata": {},
          "execution_count": 7
        }
      ]
    },
    {
      "cell_type": "markdown",
      "source": [
        "# Код алгоса, который раскидывает баллы"
      ],
      "metadata": {
        "id": "5lGcrDSJukTF"
      }
    },
    {
      "cell_type": "code",
      "source": [
        "from difflib import get_close_matches\n",
        "\n",
        "pos_model = load_model('/content/drive/MyDrive/Hakaton/Models_for_Kolbasa/pos_neg_model')\n",
        "obj_model = load_model('/content/drive/MyDrive/Hakaton/Models_for_Kolbasa/object_model')\n",
        "rel_model = load_model('/content/drive/MyDrive/Hakaton/Models_for_Kolbasa/relevant_model')\n",
        "\n",
        "def words_in_sentence(words, sentence):\n",
        "  for word in words:\n",
        "    if get_close_matches(word, sentence.split()):\n",
        "      return 1\n",
        "  return 0\n",
        "\n",
        "def get_ind(feedback):\n",
        "\n",
        "  out = {'metodist_positive_ind_1_present': 0,\n",
        "       'metodist_positive_ind_2_knowledgePractice': 0,\n",
        "       'metodist_positive_ind_3_knowledge': 0,\n",
        "       'professor_positive__ind_1_speach': 0,\n",
        "       'professor_positive__ind_2_material': 0,\n",
        "       'professor_positive__ind_3_communication': 0,\n",
        "       'metodist_negative_ind_1_badExamples': 0,\n",
        "       'metodist_negative_ind_2_badMaterial': 0,\n",
        "       'metodist_negative_ind_3_badKnowledge': 0,\n",
        "       'professor_negative__ind_1_badspeach': 0,\n",
        "       'professor_negative__ind_2_badMaterial': 0,\n",
        "       'professor_negative__ind_3_badcommunication': 0,\n",
        "       'is_critical': 0}\n",
        "\n",
        "  words = ['проблемы', 'подключение', 'ужасно', 'отвратительный', 'игнорируют', 'не отвечают', 'поддержка']\n",
        "  if words_in_sentence(words, '  '.join(feedback)):\n",
        "    out['is_critical'] = 1\n",
        "    return out\n",
        "\n",
        "  if rel_model(feedback)[0]['label'] == 'not_relevant':\n",
        "    return out\n",
        "\n",
        "  positive = pos_model(feedback)[0]['label'] == 'positive'\n",
        "  obj = obj_model(feedback)[0]['label']\n",
        "\n",
        "  if positive:\n",
        "    if obj == 'webinar':\n",
        "      words = ['увлекательно', 'простой', 'понятный', 'спасибо']\n",
        "      out['metodist_positive_ind_1_present'] = words_in_sentence(words, feedback[1])\n",
        "      words = ['карьера', 'работа', 'собеседование', 'будущее']\n",
        "      out['metodist_positive_ind_2_knowledgePractice'] = max(words_in_sentence(['нет'], feedback[2]),\n",
        "                                                             words_in_sentence(words, feedback[1]))\n",
        "      words = ['актуальный', 'современный', 'полезный']\n",
        "      out['metodist_positive_ind_3_knowledge'] = words_in_sentence(words, feedback[1])\n",
        "    elif obj == 'tutor':\n",
        "      words = ['впечатляющий', 'интересный', 'захватывающий', 'познавательный', 'увлекательно', 'простой', 'понятный', 'спасибо']\n",
        "      out['professor_positive__ind_1_speach'] = words_in_sentence(words, feedback[1])\n",
        "      words = ['отвечает', 'помогает', 'помощь', 'лучший', 'купите мне шаурму']\n",
        "      out['professor_positive__ind_3_communication'] = max(words_in_sentence(['нет'], feedback[2]),\n",
        "                                                           words_in_sentence(words, feedback[1]))\n",
        "      words = ['актуальный', 'современный', 'полезный']\n",
        "      out['professor_positive__ind_2_material'] = words_in_sentence(words, feedback[1])\n",
        "  else:\n",
        "    if obj == 'webinar':\n",
        "      words = ['нет структуры', 'непонятно', 'плохо', 'не понял']\n",
        "      out['metodist_negative_ind_1_badExamples'] = words_in_sentence(words, feedback[2] + ' ' + feedback[3])\n",
        "      words = ['неактуально', 'неинтересно', 'фигня']\n",
        "      out['metodist_negative_ind_2_badMaterial'] = words_in_sentence(words, feedback[2] + ' ' + feedback[3])\n",
        "      words = ['устаревший', 'неактуальный', 'плохой']\n",
        "      out['metodist_negative_ind_3_badKnowledge'] = words_in_sentence(words, feedback[2] + ' ' + feedback[3])\n",
        "    elif obj == 'tutor':\n",
        "      words = ['скучный', 'трудности', 'сложный', 'монотонный', 'запутанный', 'мало']\n",
        "      out['professor_negative__ind_1_badspeach'] = words_in_sentence(words, feedback[2] + ' ' + feedback[3])\n",
        "      words = ['плохо', 'грубый']\n",
        "      out['professor_negative__ind_3_badcommunication'] = words_in_sentence(words, feedback[2] + ' ' + feedback[3])\n",
        "      words = ['не знает', 'неактуально', 'не разбирается']\n",
        "      out['professor_negative__ind_2_badMaterial'] = words_in_sentence(words, feedback[2] + ' ' + feedback[3])\n",
        "  return out"
      ],
      "metadata": {
        "id": "NxKKR4j5a1yY"
      },
      "execution_count": null,
      "outputs": []
    },
    {
      "cell_type": "code",
      "source": [
        "get_ind(sample)"
      ],
      "metadata": {
        "colab": {
          "base_uri": "https://localhost:8080/"
        },
        "id": "FfSiec0SyIiB",
        "outputId": "42c61a0c-ee5a-4113-ec7d-97e6f56bae13"
      },
      "execution_count": null,
      "outputs": [
        {
          "output_type": "execute_result",
          "data": {
            "text/plain": [
              "{'metodist_positive_ind_1_present': 0,\n",
              " 'metodist_positive_ind_2_knowledgePractice': 0,\n",
              " 'metodist_positive_ind_3_knowledge': 0,\n",
              " 'professor_positive__ind_1_speach': 1,\n",
              " 'professor_positive__ind_2_material': 0,\n",
              " 'professor_positive__ind_3_communication': 1,\n",
              " 'metodist_negative_ind_1_badExamples': 0,\n",
              " 'metodist_negative_ind_2_badMaterial': 0,\n",
              " 'metodist_negative_ind_3_badKnowledge': 0,\n",
              " 'professor_negative__ind_1_badspeach': 0,\n",
              " 'professor_negative__ind_2_badMaterial': 0,\n",
              " 'professor_negative__ind_3_badcommunication': 0}"
            ]
          },
          "metadata": {},
          "execution_count": 8
        }
      ]
    }
  ]
}